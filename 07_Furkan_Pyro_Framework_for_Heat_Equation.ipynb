{
  "nbformat": 4,
  "nbformat_minor": 0,
  "metadata": {
    "colab": {
      "provenance": [],
      "include_colab_link": true
    },
    "kernelspec": {
      "name": "python3",
      "display_name": "Python 3"
    },
    "language_info": {
      "name": "python"
    }
  },
  "cells": [
    {
      "cell_type": "markdown",
      "metadata": {
        "id": "view-in-github",
        "colab_type": "text"
      },
      "source": [
        "<a href=\"https://colab.research.google.com/github/kursatkara/MAE_5020_S24/blob/master/07_Furkan_Pyro_Framework_for_Heat_Equation.ipynb\" target=\"_parent\"><img src=\"https://colab.research.google.com/assets/colab-badge.svg\" alt=\"Open In Colab\"/></a>"
      ]
    },
    {
      "cell_type": "markdown",
      "source": [
        "\\\\\n",
        "\n",
        "# **Pyro framework for parameters estimation using MCMC-NUTS algorthim Applied to the 1D Heat problem**"
      ],
      "metadata": {
        "id": "3saSY-jh0P9b"
      }
    },
    {
      "cell_type": "markdown",
      "source": [
        "**1D Heat equation ODE:**\n",
        "\n",
        "The heat equation, also known as the diffusion equation, is a fundamental partial differential equation that describes the distribution of heat over time in a given region. It is often denoted as:\n",
        "\n",
        "$$\n",
        "\\frac{\\partial u(x,t)}{\\partial t} = \\kappa \\frac{\\partial^2 u(x,t)}{\\partial x^2}\n",
        "$$\n",
        "\n",
        "Where:\n",
        "$\\frac{\\partial u}{\\partial t}$  represents the rate of change of temperature with respect to time.\n",
        "$\\kappa$ is the thermal diffusivity of the material.\n",
        "$\\frac{\\partial^2 u(x,t)}{\\partial x^2}$ represents the spatial second derivative.\n",
        "$u$ is the temperature field, which depends on both time ($t$) and spatial coordinates ($x, y, z$)."
      ],
      "metadata": {
        "id": "W2SLm1DzbmTo"
      }
    },
    {
      "cell_type": "markdown",
      "source": [
        "**Objective:**\\\n",
        "It's required to estimate $\\kappa$ by Baysian inference using Markov Chain Monte Carlo (MCMC)algorthim. Specifically the No U-Turn Sampler (NUTS) inside *`Pyro`* packages."
      ],
      "metadata": {
        "id": "Dv3Jl7AVC-tn"
      }
    },
    {
      "cell_type": "markdown",
      "source": [
        "**Installing Pyro** **:**"
      ],
      "metadata": {
        "id": "vINYpL-L2uUI"
      }
    },
    {
      "cell_type": "code",
      "source": [
        "!pip3 install pyro-ppl  # Instaling Pyro Packages"
      ],
      "metadata": {
        "colab": {
          "base_uri": "https://localhost:8080/"
        },
        "id": "A_F1Sjz91uta",
        "outputId": "2613a846-3284-477b-e7fc-288709367029"
      },
      "execution_count": 1,
      "outputs": [
        {
          "output_type": "stream",
          "name": "stdout",
          "text": [
            "Collecting pyro-ppl\n",
            "  Downloading pyro_ppl-1.9.0-py3-none-any.whl (745 kB)\n",
            "\u001b[2K     \u001b[90m━━━━━━━━━━━━━━━━━━━━━━━━━━━━━━━━━━━━━━━━\u001b[0m \u001b[32m745.2/745.2 kB\u001b[0m \u001b[31m6.6 MB/s\u001b[0m eta \u001b[36m0:00:00\u001b[0m\n",
            "\u001b[?25hRequirement already satisfied: numpy>=1.7 in /usr/local/lib/python3.10/dist-packages (from pyro-ppl) (1.25.2)\n",
            "Requirement already satisfied: opt-einsum>=2.3.2 in /usr/local/lib/python3.10/dist-packages (from pyro-ppl) (3.3.0)\n",
            "Collecting pyro-api>=0.1.1 (from pyro-ppl)\n",
            "  Downloading pyro_api-0.1.2-py3-none-any.whl (11 kB)\n",
            "Requirement already satisfied: torch>=2.0 in /usr/local/lib/python3.10/dist-packages (from pyro-ppl) (2.2.1+cu121)\n",
            "Requirement already satisfied: tqdm>=4.36 in /usr/local/lib/python3.10/dist-packages (from pyro-ppl) (4.66.2)\n",
            "Requirement already satisfied: filelock in /usr/local/lib/python3.10/dist-packages (from torch>=2.0->pyro-ppl) (3.13.4)\n",
            "Requirement already satisfied: typing-extensions>=4.8.0 in /usr/local/lib/python3.10/dist-packages (from torch>=2.0->pyro-ppl) (4.11.0)\n",
            "Requirement already satisfied: sympy in /usr/local/lib/python3.10/dist-packages (from torch>=2.0->pyro-ppl) (1.12)\n",
            "Requirement already satisfied: networkx in /usr/local/lib/python3.10/dist-packages (from torch>=2.0->pyro-ppl) (3.3)\n",
            "Requirement already satisfied: jinja2 in /usr/local/lib/python3.10/dist-packages (from torch>=2.0->pyro-ppl) (3.1.3)\n",
            "Requirement already satisfied: fsspec in /usr/local/lib/python3.10/dist-packages (from torch>=2.0->pyro-ppl) (2023.6.0)\n",
            "Collecting nvidia-cuda-nvrtc-cu12==12.1.105 (from torch>=2.0->pyro-ppl)\n",
            "  Using cached nvidia_cuda_nvrtc_cu12-12.1.105-py3-none-manylinux1_x86_64.whl (23.7 MB)\n",
            "Collecting nvidia-cuda-runtime-cu12==12.1.105 (from torch>=2.0->pyro-ppl)\n",
            "  Using cached nvidia_cuda_runtime_cu12-12.1.105-py3-none-manylinux1_x86_64.whl (823 kB)\n",
            "Collecting nvidia-cuda-cupti-cu12==12.1.105 (from torch>=2.0->pyro-ppl)\n",
            "  Using cached nvidia_cuda_cupti_cu12-12.1.105-py3-none-manylinux1_x86_64.whl (14.1 MB)\n",
            "Collecting nvidia-cudnn-cu12==8.9.2.26 (from torch>=2.0->pyro-ppl)\n",
            "  Using cached nvidia_cudnn_cu12-8.9.2.26-py3-none-manylinux1_x86_64.whl (731.7 MB)\n",
            "Collecting nvidia-cublas-cu12==12.1.3.1 (from torch>=2.0->pyro-ppl)\n",
            "  Using cached nvidia_cublas_cu12-12.1.3.1-py3-none-manylinux1_x86_64.whl (410.6 MB)\n",
            "Collecting nvidia-cufft-cu12==11.0.2.54 (from torch>=2.0->pyro-ppl)\n",
            "  Using cached nvidia_cufft_cu12-11.0.2.54-py3-none-manylinux1_x86_64.whl (121.6 MB)\n",
            "Collecting nvidia-curand-cu12==10.3.2.106 (from torch>=2.0->pyro-ppl)\n",
            "  Using cached nvidia_curand_cu12-10.3.2.106-py3-none-manylinux1_x86_64.whl (56.5 MB)\n",
            "Collecting nvidia-cusolver-cu12==11.4.5.107 (from torch>=2.0->pyro-ppl)\n",
            "  Using cached nvidia_cusolver_cu12-11.4.5.107-py3-none-manylinux1_x86_64.whl (124.2 MB)\n",
            "Collecting nvidia-cusparse-cu12==12.1.0.106 (from torch>=2.0->pyro-ppl)\n",
            "  Using cached nvidia_cusparse_cu12-12.1.0.106-py3-none-manylinux1_x86_64.whl (196.0 MB)\n",
            "Collecting nvidia-nccl-cu12==2.19.3 (from torch>=2.0->pyro-ppl)\n",
            "  Using cached nvidia_nccl_cu12-2.19.3-py3-none-manylinux1_x86_64.whl (166.0 MB)\n",
            "Collecting nvidia-nvtx-cu12==12.1.105 (from torch>=2.0->pyro-ppl)\n",
            "  Using cached nvidia_nvtx_cu12-12.1.105-py3-none-manylinux1_x86_64.whl (99 kB)\n",
            "Requirement already satisfied: triton==2.2.0 in /usr/local/lib/python3.10/dist-packages (from torch>=2.0->pyro-ppl) (2.2.0)\n",
            "Collecting nvidia-nvjitlink-cu12 (from nvidia-cusolver-cu12==11.4.5.107->torch>=2.0->pyro-ppl)\n",
            "  Using cached nvidia_nvjitlink_cu12-12.4.127-py3-none-manylinux2014_x86_64.whl (21.1 MB)\n",
            "Requirement already satisfied: MarkupSafe>=2.0 in /usr/local/lib/python3.10/dist-packages (from jinja2->torch>=2.0->pyro-ppl) (2.1.5)\n",
            "Requirement already satisfied: mpmath>=0.19 in /usr/local/lib/python3.10/dist-packages (from sympy->torch>=2.0->pyro-ppl) (1.3.0)\n",
            "Installing collected packages: pyro-api, nvidia-nvtx-cu12, nvidia-nvjitlink-cu12, nvidia-nccl-cu12, nvidia-curand-cu12, nvidia-cufft-cu12, nvidia-cuda-runtime-cu12, nvidia-cuda-nvrtc-cu12, nvidia-cuda-cupti-cu12, nvidia-cublas-cu12, nvidia-cusparse-cu12, nvidia-cudnn-cu12, nvidia-cusolver-cu12, pyro-ppl\n",
            "Successfully installed nvidia-cublas-cu12-12.1.3.1 nvidia-cuda-cupti-cu12-12.1.105 nvidia-cuda-nvrtc-cu12-12.1.105 nvidia-cuda-runtime-cu12-12.1.105 nvidia-cudnn-cu12-8.9.2.26 nvidia-cufft-cu12-11.0.2.54 nvidia-curand-cu12-10.3.2.106 nvidia-cusolver-cu12-11.4.5.107 nvidia-cusparse-cu12-12.1.0.106 nvidia-nccl-cu12-2.19.3 nvidia-nvjitlink-cu12-12.4.127 nvidia-nvtx-cu12-12.1.105 pyro-api-0.1.2 pyro-ppl-1.9.0\n"
          ]
        }
      ]
    },
    {
      "cell_type": "markdown",
      "source": [
        "**Importing required libraries/packages** **:**"
      ],
      "metadata": {
        "id": "qL-qEQOt3E13"
      }
    },
    {
      "cell_type": "code",
      "source": [
        "import numpy as np\n",
        "import matplotlib.pyplot as plt\n",
        "\n",
        "# import all required Pyro/Pytorch libraries\n",
        "import torch\n",
        "torch.set_default_tensor_type(torch.FloatTensor) # set the default to float32\n",
        "\n",
        "import pyro\n",
        "import pyro.distributions as dist\n",
        "\n",
        "# We will use Markov Chain Monte Carlo (MCMC) methods here, specifically the No U-Turn Sampler (NUTS)\n",
        "from pyro.infer import MCMC, NUTS, Predictive"
      ],
      "metadata": {
        "id": "f3d6ZMxx3dcm",
        "colab": {
          "base_uri": "https://localhost:8080/"
        },
        "outputId": "735be56f-b80b-476f-a5c4-ff88f633b678"
      },
      "execution_count": 2,
      "outputs": [
        {
          "output_type": "stream",
          "name": "stderr",
          "text": [
            "/usr/local/lib/python3.10/dist-packages/torch/__init__.py:696: UserWarning: torch.set_default_tensor_type() is deprecated as of PyTorch 2.1, please use torch.set_default_dtype() and torch.set_default_device() as alternatives. (Triggered internally at ../torch/csrc/tensor/python_tensor.cpp:451.)\n",
            "  _C._set_default_tensor_type(t)\n"
          ]
        }
      ]
    },
    {
      "cell_type": "markdown",
      "source": [
        "**Inputs:**\\\n",
        "The time step ($dt = 0.0001$) , the spatial domain ($x$ $ϵ$ $[0,1] $), spatial step ($dx = 1 / n_{x}$), where $n_{x} = 64 $ is the number of spatial points.\n",
        "\n",
        "Initial conditions:\\\n",
        "$u(x,0) = sin(\\pi x)$ \\\n",
        "\n",
        "Boundary conditions:\\\n",
        "$u(0,t) = 0.0$ and $u(1,t) = 0.0$ \\\n",
        "\n",
        "Final time:\\\n",
        "$t_f = 0.2 sec$\n",
        "\n",
        "Number of time steps:\\\n",
        "$n_t = t_f / dt$"
      ],
      "metadata": {
        "id": "c8edfVGH37oD"
      }
    },
    {
      "cell_type": "code",
      "source": [
        "#Inputs\n",
        "nx = 64;      # number of spatial points\n",
        "dx = 1/nx;    # spatial step\n",
        "x = np.linspace(0,1,nx+1)  # the spatial domain\n",
        "dt = 0.0001   # time step\n",
        "tend = 0.2;           # final time\n",
        "ttend = tend/dt       # numer of time steps\n",
        "kappa_true = 1 # assumed to be known to generate data, eventutally the estimated kappa should be indetical to the true one.\n",
        "u0 = np.sin(np.pi*x)  # initial conditions"
      ],
      "metadata": {
        "id": "GUoorv0N-3oV"
      },
      "execution_count": 3,
      "outputs": []
    },
    {
      "cell_type": "markdown",
      "source": [
        "**Heat equation spatial discretization function:**\\\n",
        "Here we discritize heat equation ODE using central finite difference in spatial domain, i.e,\\\n",
        "$\\frac{\\partial u}{\\partial t} = \\kappa* \\frac{ u_{i+1}-2u_i +u_{i-1}}{Δx^2} $"
      ],
      "metadata": {
        "id": "2JJrTQRzExzS"
      }
    },
    {
      "cell_type": "code",
      "source": [
        "# Heat Equation discretized ODE Function\n",
        "def heat(u,nx,dx,kappa):\n",
        "    rhs = np.zeros(nx+1)\n",
        "    idx = np.arange(1,nx)\n",
        "    for i in idx:\n",
        "        rhs[i] = (1/dx**2)*(u[i+1]-2*u[i]+u[i-1])*kappa  # Central Finite Difference\n",
        "    return rhs"
      ],
      "metadata": {
        "id": "Wosj-pcQFQ9J"
      },
      "execution_count": 4,
      "outputs": []
    },
    {
      "cell_type": "markdown",
      "source": [
        "**Data generation:**\n",
        "\n",
        "Here we generate synthetic data from the analytical solution, if the analytical solution doesn't exist, which normally that's the case, we solve the system using $4th$ order runge kutta numerical integration.\n",
        "\n",
        "For demonstration, The system will be solved numerically and analytically."
      ],
      "metadata": {
        "id": "fRoPsnNYHj1C"
      }
    },
    {
      "cell_type": "code",
      "source": [
        "# Generating data: Numerical and analytical solution of heat equation\n",
        "\n",
        "u = u0\n",
        "for tt in range(int(ttend)):\n",
        "    k1 = heat(u,nx,dx,kappa_true)\n",
        "    k2 = heat(u+k1*dt/2,nx,dx,kappa_true)\n",
        "    k3 = heat(u+2*k2*dt-k1*dt,nx,dx,kappa_true)\n",
        "    u = u + 1/6*dt*(k1+4*k2+k3)\n",
        "u_an = np.exp(-(np.pi)**2*dt*tt)*np.sin(np.pi*x)\n",
        "u_nu = u\n",
        "# plotting \"u_nu\" and \"u_an' at final time step\n",
        "plt.figure()\n",
        "plt.plot(x,u_an, label='Analytical')\n",
        "plt.plot(x,u_nu, '--*', label='Numerical(RK4)')\n",
        "plt.legend()\n",
        "plt.grid(True)\n",
        "plt.show()"
      ],
      "metadata": {
        "colab": {
          "base_uri": "https://localhost:8080/",
          "height": 430
        },
        "id": "R2XgVa9nNgMu",
        "outputId": "6affe32c-32dc-4499-e7c6-273ec7e12bd5"
      },
      "execution_count": 5,
      "outputs": [
        {
          "output_type": "display_data",
          "data": {
            "text/plain": [
              "<Figure size 640x480 with 1 Axes>"
            ],
            "image/png": "[encoded data removed]"
          },
          "metadata": {}
        }
      ]
    },
    {
      "cell_type": "markdown",
      "source": [
        "**Model function:**"
      ],
      "metadata": {
        "id": "43Lmm9fiPc3t"
      }
    },
    {
      "cell_type": "code",
      "source": [
        "# Model function\n",
        "def model(u_an,u0,x,nx,dx,dt,ttend):\n",
        "\n",
        "    ### Preparation of model priors: the \"mean\" of u from the forward path [RK4],  prior dist of \"sigma\" where sigma is the std of u, and prior dist of \"kappa\" #####\n",
        "    # Define our intercept prior\n",
        "    kappa = pyro.sample(\"kappa\", dist.HalfNormal(scale=2))   # Scale : simply defines the standard deviation of \"kappa\"\n",
        "\n",
        "  # Define our model  [Here we used the prior of \"kappa\" then forward path using RK4 to get the mean of \"u\"]\n",
        "    u = u0 # initial conditions\n",
        "    for tt in range(int(ttend)):\n",
        "      k1 = heat(u,nx,dx,kappa.detach().numpy())\n",
        "      k2 = heat(u+k1*dt/2,nx,dx,kappa.detach().numpy())\n",
        "      k3 = heat(u+2*k2*dt-k1*dt,nx,dx,kappa.detach().numpy())\n",
        "      u = u + 1/6*dt*(k1+4*k2+k3)\n",
        "\n",
        "    mean = torch.from_numpy(u) # Turn out numpy data of \"u\" into PyTorch\n",
        "\n",
        "    # Define a sigma prior for the random error\n",
        "    sigma = pyro.sample(\"sigma\", dist.HalfNormal(scale=0.1))\n",
        "\n",
        "    with pyro.plate(\"data\", u_an.shape[0]):\n",
        "\n",
        "        # Assume our expected mean comes from a normal distribution\n",
        "        outcome_dist = dist.Normal(mean, sigma)\n",
        "\n",
        "        # Condition the expected mean on the observed target y\n",
        "        return pyro.sample(\"obs\", outcome_dist, obs=u_an)"
      ],
      "metadata": {
        "id": "IA6lm17IPqY4"
      },
      "execution_count": 6,
      "outputs": []
    },
    {
      "cell_type": "markdown",
      "source": [
        "**Running the model:**"
      ],
      "metadata": {
        "id": "WTxRE14TTfti"
      }
    },
    {
      "cell_type": "code",
      "source": [
        "# Turn out numpy data into PyTorch tensors\n",
        "u_train_torch = torch.from_numpy(u_an)\n",
        "\n",
        "wu = 10   # number of warmup samples\n",
        "sn = 20   # number of samples\n",
        "\n",
        "# Clear the parameter storage\n",
        "pyro.clear_param_store()\n",
        "\n",
        "# Initialize our No U-Turn Sampler\n",
        "my_kernel = NUTS(model, max_tree_depth=4)  # a shallower tree helps the algorithm run faster\n",
        "# initialparams = dict(cmqs=torch.tensor(cmq),sigma=torch.tensor(0.00))\n",
        "my_mcmc1 = MCMC(my_kernel,\n",
        "                num_samples=sn,\n",
        "                warmup_steps=wu) #,initial_params=initialparams\n",
        "# Run the sampler\n",
        "my_mcmc1.run(u_train_torch,u0,x,nx,dx,dt,ttend)\n",
        "# Getting the samples\n",
        "samples = my_mcmc1.get_samples()"
      ],
      "metadata": {
        "colab": {
          "base_uri": "https://localhost:8080/"
        },
        "id": "X4yYdgHwTjgk",
        "outputId": "d147c8fc-ca69-4f20-89a7-c1cebfba6858"
      },
      "execution_count": 7,
      "outputs": [
        {
          "output_type": "stream",
          "name": "stderr",
          "text": [
            "\rWarmup:   0%|          | 0/30 [00:00, ?it/s]<ipython-input-4-f02f60eb6182>:6: RuntimeWarning: overflow encountered in multiply\n",
            "  rhs[i] = (1/dx**2)*(u[i+1]-2*u[i]+u[i-1])*kappa  # Central Finite Difference\n",
            "<ipython-input-4-f02f60eb6182>:6: RuntimeWarning: overflow encountered in scalar multiply\n",
            "  rhs[i] = (1/dx**2)*(u[i+1]-2*u[i]+u[i-1])*kappa  # Central Finite Difference\n",
            "<ipython-input-6-acebf8020ab8>:14: RuntimeWarning: overflow encountered in multiply\n",
            "  u = u + 1/6*dt*(k1+4*k2+k3)\n",
            "<ipython-input-6-acebf8020ab8>:14: RuntimeWarning: invalid value encountered in add\n",
            "  u = u + 1/6*dt*(k1+4*k2+k3)\n",
            "<ipython-input-6-acebf8020ab8>:12: RuntimeWarning: invalid value encountered in add\n",
            "  k2 = heat(u+k1*dt/2,nx,dx,kappa.detach().numpy())\n",
            "<ipython-input-6-acebf8020ab8>:13: RuntimeWarning: overflow encountered in multiply\n",
            "  k3 = heat(u+2*k2*dt-k1*dt,nx,dx,kappa.detach().numpy())\n",
            "<ipython-input-4-f02f60eb6182>:6: RuntimeWarning: invalid value encountered in scalar add\n",
            "  rhs[i] = (1/dx**2)*(u[i+1]-2*u[i]+u[i-1])*kappa  # Central Finite Difference\n",
            "Sample: 100%|██████████| 30/30 [01:47,  3.57s/it, step size=1.03e-01, acc. prob=0.162]\n"
          ]
        }
      ]
    },
    {
      "cell_type": "markdown",
      "source": [
        "**Model summary:**"
      ],
      "metadata": {
        "id": "H7fehfoBUG-U"
      }
    },
    {
      "cell_type": "code",
      "source": [
        "kappa_obs = samples['kappa'].numpy()\n",
        "print(kappa_obs)"
      ],
      "metadata": {
        "colab": {
          "base_uri": "https://localhost:8080/"
        },
        "id": "WRyOUcF4yR6N",
        "outputId": "080d2d45-6235-42ce-9a26-9f6b232e44f0"
      },
      "execution_count": 8,
      "outputs": [
        {
          "output_type": "stream",
          "name": "stdout",
          "text": [
            "[0.92369029 0.92369029 0.97582542 1.00139696 0.99313062 0.99313062\n",
            " 0.99313062 0.99313062 0.99313062 0.99313062 0.99313062 0.99313062\n",
            " 0.99313062 0.99313062 0.99313062 0.99313062 0.99313062 0.99313062\n",
            " 0.99313062 0.99313062]\n"
          ]
        }
      ]
    },
    {
      "cell_type": "code",
      "source": [
        "# Model summary\n",
        "print(my_mcmc1.summary())\n",
        "print(samples)\n",
        "\n",
        "# Print estimated kappa:\n",
        "kappa_obs = samples['kappa'].numpy()\n",
        "K_obs_mean = np.array(kappa_obs).mean(axis=0)\n",
        "K_obs_std = np.array(kappa_obs).std(axis=0)\n",
        "print('Mean of estimated kappa = ')\n",
        "print(K_obs_mean)\n",
        "print('Std of estimated kappa = ')\n",
        "print(K_obs_std)\n",
        "print('true value of kappa is = ')\n",
        "print(kappa_true)"
      ],
      "metadata": {
        "colab": {
          "base_uri": "https://localhost:8080/"
        },
        "id": "jQn2LeO6UJ4a",
        "outputId": "451f9191-1da5-4519-8745-dd21a24c97f4"
      },
      "execution_count": 9,
      "outputs": [
        {
          "output_type": "stream",
          "name": "stdout",
          "text": [
            "\n",
            "                mean       std    median      5.0%     95.0%     n_eff     r_hat\n",
            "     kappa      0.99      0.02      0.99      0.92      0.99      8.94      1.07\n",
            "     sigma      0.01      0.01      0.01      0.01      0.05      8.39      1.09\n",
            "\n",
            "Number of divergences: 8\n",
            "None\n",
            "{'kappa': tensor([0.9237, 0.9237, 0.9758, 1.0014, 0.9931, 0.9931, 0.9931, 0.9931, 0.9931,\n",
            "        0.9931, 0.9931, 0.9931, 0.9931, 0.9931, 0.9931, 0.9931, 0.9931, 0.9931,\n",
            "        0.9931, 0.9931], dtype=torch.float64), 'sigma': tensor([0.0506, 0.0506, 0.0150, 0.0128, 0.0100, 0.0100, 0.0100, 0.0100, 0.0100,\n",
            "        0.0100, 0.0100, 0.0100, 0.0100, 0.0100, 0.0100, 0.0100, 0.0100, 0.0100,\n",
            "        0.0100, 0.0100], dtype=torch.float64)}\n",
            "Mean of estimated kappa = \n",
            "0.9857346478379437\n",
            "Std of estimated kappa = \n",
            "0.02111600542816018\n",
            "true value of kappa is = \n",
            "1\n"
          ]
        }
      ]
    },
    {
      "cell_type": "markdown",
      "source": [
        "**Reconstructing the data**"
      ],
      "metadata": {
        "id": "5orFP6BHmvz6"
      }
    },
    {
      "cell_type": "code",
      "source": [
        "# Generating data: Numerical and analytical solution of heat equation\n",
        "u = u0\n",
        "u_up = u0\n",
        "u_dn = u0\n",
        "for tt in range(int(ttend)):\n",
        "    k1 =    heat(u,nx,dx,K_obs_mean)\n",
        "    k1_up = heat(u_up,nx,dx,K_obs_mean+K_obs_std)\n",
        "    k1_dn = heat(u_dn,nx,dx,K_obs_mean-K_obs_std)\n",
        "\n",
        "    k2 =    heat(u+k1*dt/2,nx,dx,K_obs_mean)\n",
        "    k2_up = heat(u_up+k1_up*dt/2,nx,dx,K_obs_mean+K_obs_std)\n",
        "    k2_dn = heat(u_dn+k1_dn*dt/2,nx,dx,K_obs_mean-K_obs_std)\n",
        "\n",
        "    k3 =    heat(u+2*k2*dt-k1*dt,nx,dx,K_obs_mean)\n",
        "    k3_up = heat(u_up+2*k2_up*dt-k1_up*dt,nx,dx,K_obs_mean+K_obs_std)\n",
        "    k3_dn = heat(u_dn+2*k2_dn*dt-k1_dn*dt,nx,dx,K_obs_mean-K_obs_std)\n",
        "\n",
        "    u =    u + 1/6*dt*(k1+4*k2+k3)\n",
        "    u_up = u_up + 1/6*dt*(k1_up+4*k2_up+k3_up)\n",
        "    u_dn = u_dn + 1/6*dt*(k1_dn+4*k2_dn+k3_dn)\n",
        "u_MCMC_mean = u\n",
        "u_MCMC_up = u_up\n",
        "u_MCMC_dn = u_dn\n",
        "\n",
        "# plotting \"u_nu\" and \"u_an' at final time step\n",
        "plt.figure()\n",
        "plt.plot(x,u_MCMC_mean, label='MCMC Model')\n",
        "plt.plot(x,u_nu, '--*', label='True')\n",
        "plt.legend()\n",
        "plt.grid(True)\n",
        "plt.show()"
      ],
      "metadata": {
        "colab": {
          "base_uri": "https://localhost:8080/",
          "height": 430
        },
        "id": "LcQsiICgmuws",
        "outputId": "42ade26d-0da6-45dc-f3cf-c6f28f28ccce"
      },
      "execution_count": 10,
      "outputs": [
        {
          "output_type": "display_data",
          "data": {
            "text/plain": [
              "<Figure size 640x480 with 1 Axes>"
            ],
            "image/png": "[encoded data removed]"
          },
          "metadata": {}
        }
      ]
    }
  ]
}