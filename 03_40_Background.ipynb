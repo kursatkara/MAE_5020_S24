{
  "nbformat": 4,
  "nbformat_minor": 0,
  "metadata": {
    "colab": {
      "provenance": [],
      "authorship_tag": "ABX9TyOQz0dX/FV2kQIg+vldtz2K",
      "include_colab_link": true
    },
    "kernelspec": {
      "name": "python3",
      "display_name": "Python 3"
    },
    "language_info": {
      "name": "python"
    }
  },
  "cells": [
    {
      "cell_type": "markdown",
      "metadata": {
        "id": "view-in-github",
        "colab_type": "text"
      },
      "source": [
        "<a href=\"https://colab.research.google.com/github/kursatkara/MAE_5020_S24/blob/master/03_40_Background.ipynb\" target=\"_parent\"><img src=\"https://colab.research.google.com/assets/colab-badge.svg\" alt=\"Open In Colab\"/></a>"
      ]
    },
    {
      "cell_type": "code",
      "execution_count": 32,
      "metadata": {
        "colab": {
          "base_uri": "https://localhost:8080/"
        },
        "id": "1s0MrTCAJsNJ",
        "outputId": "d8d613c9-210c-4870-b954-5b98a9621a32"
      },
      "outputs": [
        {
          "output_type": "stream",
          "name": "stdout",
          "text": [
            "A matrix:\n",
            "[[ 2  4  6]\n",
            " [ 8 10 12]] \n",
            "\n",
            "Flattened A matrix:\n",
            "[ 2  4  6  8 10 12] \n",
            "\n",
            "mean of A, (flattened): 7.0\n",
            "mean of A, axis = 0 (column): [5. 7. 9.]\n",
            "mean of A, axis = 1 (row): [ 4. 10.] \n",
            "\n"
          ]
        }
      ],
      "source": [
        "import numpy as np\n",
        "\n",
        "A = np.array([[2, 4, 6], [8, 10, 12]])\n",
        "\n",
        "print(\"A matrix:\")\n",
        "print(A,\"\\n\")\n",
        "\n",
        "print(\"Flattened A matrix:\")\n",
        "print(A.flatten(),\"\\n\")\n",
        "\n",
        "print(\"mean of A, (flattened):\",np.mean(A))\n",
        "print(\"mean of A, axis = 0 (column):\", np.mean(A,axis=0))\n",
        "print(\"mean of A, axis = 1 (row):\",np.mean(A,axis=1),\"\\n\")\n"
      ]
    },
    {
      "cell_type": "code",
      "source": [
        "# np.random.randn, return a sample (or samples) from the “standard normal” distribution.\n",
        "# It draw samples from a standard Normal distribution (mean=0, stdev=1).\n",
        "A = np.random.randn(2,4)\n",
        "print(\"Random A:\\n\", A)\n",
        "print(\"Row mean of A:\",np.mean(A, axis=1))\n",
        "print(\"Standard deviation of A:\",np.std(A))\n"
      ],
      "metadata": {
        "colab": {
          "base_uri": "https://localhost:8080/"
        },
        "id": "7U34cKsqJxGw",
        "outputId": "007cde52-2333-4f2e-b524-cac04b190315"
      },
      "execution_count": 38,
      "outputs": [
        {
          "output_type": "stream",
          "name": "stdout",
          "text": [
            "Random A:\n",
            " [[ 0.71903053  0.90068206 -0.77244076 -0.92502995]\n",
            " [-0.34635461  1.04759899  0.90899525  0.4793898 ]]\n",
            "Row mean of A: [-0.01943953  0.52240736]\n",
            "Standard deviation of A: 0.7540007490826863\n"
          ]
        }
      ]
    },
    {
      "cell_type": "code",
      "source": [
        "# Construct an array by repeating given number by repetitions\n",
        "\n",
        "a = np.tile(1, 5)\n",
        "print(a)"
      ],
      "metadata": {
        "colab": {
          "base_uri": "https://localhost:8080/"
        },
        "id": "5r6fTaGwcsKD",
        "outputId": "f5a13dde-52ab-4ede-b661-485308f019cd"
      },
      "execution_count": 41,
      "outputs": [
        {
          "output_type": "stream",
          "name": "stdout",
          "text": [
            "[1 1 1 1 1]\n"
          ]
        }
      ]
    },
    {
      "cell_type": "code",
      "source": [
        "b = np.tile([1, 2], 5)\n",
        "print(b)"
      ],
      "metadata": {
        "colab": {
          "base_uri": "https://localhost:8080/"
        },
        "id": "eZG5TWuvg0pd",
        "outputId": "db684197-29df-4a53-db52-f1f2a92329b9"
      },
      "execution_count": 43,
      "outputs": [
        {
          "output_type": "stream",
          "name": "stdout",
          "text": [
            "[1 2 1 2 1 2 1 2 1 2]\n"
          ]
        }
      ]
    },
    {
      "cell_type": "code",
      "source": [
        "c = np.tile([1, 2], (5,1))\n",
        "print(c)"
      ],
      "metadata": {
        "colab": {
          "base_uri": "https://localhost:8080/"
        },
        "id": "e389qXgrg_9c",
        "outputId": "7be84d9e-5559-45de-b47f-8d128085e299"
      },
      "execution_count": 44,
      "outputs": [
        {
          "output_type": "stream",
          "name": "stdout",
          "text": [
            "[[1 2]\n",
            " [1 2]\n",
            " [1 2]\n",
            " [1 2]\n",
            " [1 2]]\n"
          ]
        }
      ]
    },
    {
      "cell_type": "code",
      "source": [
        "c = np.tile([1, 2], (5,1)).T\n",
        "print(c)"
      ],
      "metadata": {
        "colab": {
          "base_uri": "https://localhost:8080/"
        },
        "id": "uWkBPeXuhVwJ",
        "outputId": "cd693531-c90d-4f8d-d6c7-673989ab1e78"
      },
      "execution_count": 47,
      "outputs": [
        {
          "output_type": "stream",
          "name": "stdout",
          "text": [
            "[[1 1 1 1 1]\n",
            " [2 2 2 2 2]]\n"
          ]
        }
      ]
    },
    {
      "cell_type": "code",
      "source": [
        "d = np.tile([1, 2], (1,5))\n",
        "print(d)"
      ],
      "metadata": {
        "colab": {
          "base_uri": "https://localhost:8080/"
        },
        "id": "1dAOsQsChKc3",
        "outputId": "1a32a01e-8b30-4f98-dfc4-b69314d7e922"
      },
      "execution_count": 48,
      "outputs": [
        {
          "output_type": "stream",
          "name": "stdout",
          "text": [
            "[[1 2 1 2 1 2 1 2 1 2]]\n"
          ]
        }
      ]
    },
    {
      "cell_type": "code",
      "source": [],
      "metadata": {
        "id": "3K8UU5EUhPgI"
      },
      "execution_count": null,
      "outputs": []
    }
  ]
}