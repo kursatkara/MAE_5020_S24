{
  "nbformat": 4,
  "nbformat_minor": 0,
  "metadata": {
    "colab": {
      "provenance": [],
      "authorship_tag": "ABX9TyMYAu3YBo3tUCfxUkriDlb+",
      "include_colab_link": true
    },
    "kernelspec": {
      "name": "python3",
      "display_name": "Python 3"
    },
    "language_info": {
      "name": "python"
    }
  },
  "cells": [
    {
      "cell_type": "markdown",
      "metadata": {
        "id": "view-in-github",
        "colab_type": "text"
      },
      "source": [
        "<a href=\"https://colab.research.google.com/github/kursatkara/MAE_5020_S24/blob/master/03_0_Matrix_Norms.ipynb\" target=\"_parent\"><img src=\"https://colab.research.google.com/assets/colab-badge.svg\" alt=\"Open In Colab\"/></a>"
      ]
    },
    {
      "cell_type": "markdown",
      "source": [
        "Frobenius Norm and 2-norm of a Matrix"
      ],
      "metadata": {
        "id": "lyH6mTNkS-qj"
      }
    },
    {
      "cell_type": "code",
      "source": [
        "import numpy as np\n",
        "\n",
        "# Define a 3x3 matrix\n",
        "A = np.array([[1, 2, 3],\n",
        "              [4, 5, 6],\n",
        "              [7, 8, 9]])\n",
        "\n",
        "# Calculate the Frobenius norm directly\n",
        "frobenius_norm_direct = np.linalg.norm(A, 'fro')\n",
        "\n",
        "# Perform Singular Value Decomposition to get the singular values of A\n",
        "U, S, VT = np.linalg.svd(A)\n",
        "\n",
        "# Calculate the Frobenius norm using the singular values\n",
        "frobenius_norm_svd = np.sqrt(np.sum(S**2))\n",
        "\n",
        "print(\"The Frobenius norm of the matrix (direct method):\", frobenius_norm_direct)\n",
        "print(\"The Frobenius norm of the matrix (using SVD).   :\", frobenius_norm_svd)\n",
        "\n",
        "\n",
        "# The 2-norm of the matrix is the largest singular value\n",
        "two_norm = np.max(S)\n",
        "\n",
        "print(\"The 2-norm of the matrix is                     :\", two_norm)\n"
      ],
      "metadata": {
        "colab": {
          "base_uri": "https://localhost:8080/"
        },
        "id": "CTn40n8aS91C",
        "outputId": "1dbeebed-9a1e-4a79-d87a-a04d83a6e4be"
      },
      "execution_count": 4,
      "outputs": [
        {
          "output_type": "stream",
          "name": "stdout",
          "text": [
            "The Frobenius norm of the matrix (direct method): 16.881943016134134\n",
            "The Frobenius norm of the matrix (using SVD).   : 16.881943016134134\n",
            "The 2-norm of the matrix is                     : 16.84810335261421\n"
          ]
        }
      ]
    },
    {
      "cell_type": "code",
      "execution_count": null,
      "metadata": {
        "id": "oGRve1j6S80O"
      },
      "outputs": [],
      "source": []
    }
  ]
}