{
  "nbformat": 4,
  "nbformat_minor": 0,
  "metadata": {
    "colab": {
      "provenance": [],
      "authorship_tag": "ABX9TyN4ok/GwJMiE786lX4ryipZ",
      "include_colab_link": true
    },
    "kernelspec": {
      "name": "python3",
      "display_name": "Python 3"
    },
    "language_info": {
      "name": "python"
    }
  },
  "cells": [
    {
      "cell_type": "markdown",
      "metadata": {
        "id": "view-in-github",
        "colab_type": "text"
      },
      "source": [
        "<a href=\"https://colab.research.google.com/github/kursatkara/MAE_5020_S24/blob/master/08_02_DCNN.ipynb\" target=\"_parent\"><img src=\"https://colab.research.google.com/assets/colab-badge.svg\" alt=\"Open In Colab\"/></a>"
      ]
    },
    {
      "cell_type": "markdown",
      "source": [
        "###**Deep Convolutional Neural Network**\n",
        "The code from the textbook [1] was modified to run on Google Colab.\n",
        "\n",
        "[1] https://github.com/kursatkara/databook_python/blob/master/CH06/CH06_SEC05_1_DeepCNN.ipynb"
      ],
      "metadata": {
        "id": "rpcYaWINLqu8"
      }
    },
    {
      "cell_type": "code",
      "execution_count": 1,
      "metadata": {
        "id": "yQBR18DgLpdj"
      },
      "outputs": [],
      "source": [
        "import numpy as np\n",
        "import matplotlib.pyplot as plt\n",
        "from matplotlib import rcParams\n",
        "from scipy import io\n",
        "import os\n",
        "from keras.utils import to_categorical\n",
        "from keras.models import Sequential\n",
        "from keras.layers import Dense, Conv2D, Flatten, MaxPool2D\n",
        "from keras import optimizers\n",
        "import requests\n",
        "\n",
        "rcParams.update({'font.size': 18})\n",
        "plt.rcParams['figure.figsize'] = [12, 12]"
      ]
    },
    {
      "cell_type": "code",
      "source": [
        "# Local path where you want to store the file\n",
        "local_file_path = 'lettersTestSet.mat'\n",
        "\n",
        "# URL of the .mat file\n",
        "url = 'https://github.com/kursatkara/databook_python/raw/master/DATA/lettersTestSet.mat'\n",
        "\n",
        "# Check if the file already exists\n",
        "if not os.path.exists(local_file_path):\n",
        "    # Download the .mat file\n",
        "    print(\"Downloading the file...\")\n",
        "    r = requests.get(url)\n",
        "    if r.status_code == 200:\n",
        "        # If download is successful, save the file locally\n",
        "        with open(local_file_path, 'wb') as f:\n",
        "            f.write(r.content)\n",
        "        print(\"Download completed successfully.\")\n",
        "    else:\n",
        "        print(\"Failed to retrieve the data. HTTP Status Code: {}\".format(r.status_code))\n",
        "else:\n",
        "    print(\"File already exists.\")\n",
        "\n",
        "# Load the .mat file\n",
        "letters_test_mat = io.loadmat(local_file_path)\n",
        "\n"
      ],
      "metadata": {
        "colab": {
          "base_uri": "https://localhost:8080/"
        },
        "id": "jKje-Bg5L7BS",
        "outputId": "0d946aca-cdd4-499c-941b-8e7612058ddb"
      },
      "execution_count": 2,
      "outputs": [
        {
          "output_type": "stream",
          "name": "stdout",
          "text": [
            "File already exists.\n"
          ]
        }
      ]
    },
    {
      "cell_type": "code",
      "source": [
        "# Local path where you want to store the file\n",
        "local_file_path = 'lettersTrainSet.mat'\n",
        "\n",
        "# URL of the .mat file\n",
        "url = 'https://github.com/kursatkara/databook_python/raw/master/DATA/lettersTrainSet.mat'\n",
        "\n",
        "# Check if the file already exists\n",
        "if not os.path.exists(local_file_path):\n",
        "    # Download the .mat file\n",
        "    print(\"Downloading the file...\")\n",
        "    r = requests.get(url)\n",
        "    if r.status_code == 200:\n",
        "        # If download is successful, save the file locally\n",
        "        with open(local_file_path, 'wb') as f:\n",
        "            f.write(r.content)\n",
        "        print(\"Download completed successfully.\")\n",
        "    else:\n",
        "        print(\"Failed to retrieve the data. HTTP Status Code: {}\".format(r.status_code))\n",
        "else:\n",
        "    print(\"File already exists.\")\n",
        "\n",
        "# Load the .mat file\n",
        "letters_train_mat = io.loadmat(local_file_path)"
      ],
      "metadata": {
        "colab": {
          "base_uri": "https://localhost:8080/"
        },
        "id": "KKTJFNQQMdJf",
        "outputId": "2fd1cef4-838e-4ac7-a589-66336734b2cc"
      },
      "execution_count": 3,
      "outputs": [
        {
          "output_type": "stream",
          "name": "stdout",
          "text": [
            "File already exists.\n"
          ]
        }
      ]
    },
    {
      "cell_type": "code",
      "source": [
        "XTrain = letters_train_mat['XTrain']\n",
        "TTrain = letters_train_mat['TTrain_cell']\n",
        "XTest = letters_test_mat['XTest']\n",
        "TTest = letters_test_mat['TTest_cell']"
      ],
      "metadata": {
        "id": "XFouMW64L1Y_"
      },
      "execution_count": 4,
      "outputs": []
    },
    {
      "cell_type": "code",
      "source": [
        "perm = np.random.permutation(1500)[:20]\n",
        "\n",
        "# By default, Keras expects data in form (batch, height, width, channels)\n",
        "XTrain = np.transpose(XTrain,axes=[3,0,1,2])\n",
        "XTest = np.transpose(XTest,axes=[3,0,1,2])\n",
        "\n",
        "fig,axs = plt.subplots(4,5)\n",
        "axs = axs.reshape(-1)\n",
        "\n",
        "for j in range(len(axs)):\n",
        "    axs[j].imshow(np.squeeze(XTrain[perm[j],:,:,:]),cmap='gray')\n",
        "    axs[j].axis('off')"
      ],
      "metadata": {
        "colab": {
          "base_uri": "https://localhost:8080/",
          "height": 920
        },
        "id": "l2nDp78ddM9s",
        "outputId": "ff5d40d7-05b3-4c80-c632-24552664bd5f"
      },
      "execution_count": 5,
      "outputs": [
        {
          "output_type": "display_data",
          "data": {
            "text/plain": [
              "<Figure size 1200x1200 with 20 Axes>"
            ],
            "image/png": "[encoded data removed]"
          },
          "metadata": {}
        }
      ]
    },
    {
      "cell_type": "code",
      "source": [
        "classes = np.unique(TTrain)\n",
        "y_train_label = np.zeros_like(TTrain)\n",
        "y_test_label = np.zeros_like(TTest)\n",
        "for nc in range(len(classes)):\n",
        "    y_train_label[TTrain == classes[nc]] = nc\n",
        "    y_test_label[TTest == classes[nc]] = nc\n",
        "\n",
        "y_train_label = y_train_label.reshape(-1)\n",
        "y_test_label = y_test_label.reshape(-1)\n",
        "\n",
        "#one-hot encode categorical classes\n",
        "y_train = to_categorical(y_train_label)\n",
        "y_test = to_categorical(y_test_label)"
      ],
      "metadata": {
        "id": "E5J9hYMIdfx9"
      },
      "execution_count": 6,
      "outputs": []
    },
    {
      "cell_type": "code",
      "source": [
        "#create model\n",
        "model = Sequential()\n",
        "\n",
        "#add model layers\n",
        "model.add(Conv2D(filters=16, kernel_size=5, activation='relu', input_shape=(28,28,1)))\n",
        "model.add(MaxPool2D(pool_size=2, strides=2))\n",
        "model.add(Flatten())\n",
        "model.add(Dense(len(classes), activation='softmax'))\n",
        "\n",
        "sgd_optimizer = optimizers.SGD(momentum=0.9)\n",
        "model.compile(optimizer=sgd_optimizer, loss='categorical_crossentropy')\n",
        "model.fit(XTrain, y_train, epochs=30)"
      ],
      "metadata": {
        "colab": {
          "base_uri": "https://localhost:8080/"
        },
        "id": "Z2Yclo6ldgyo",
        "outputId": "fde89409-84b3-42f3-e25d-b65607ae3f1a"
      },
      "execution_count": 7,
      "outputs": [
        {
          "output_type": "stream",
          "name": "stdout",
          "text": [
            "Epoch 1/30\n",
            "47/47 [==============================] - 3s 21ms/step - loss: 0.5020\n",
            "Epoch 2/30\n",
            "47/47 [==============================] - 1s 18ms/step - loss: 0.0589\n",
            "Epoch 3/30\n",
            "47/47 [==============================] - 1s 21ms/step - loss: 0.0185\n",
            "Epoch 4/30\n",
            "47/47 [==============================] - 1s 24ms/step - loss: 0.0102\n",
            "Epoch 5/30\n",
            "47/47 [==============================] - 1s 25ms/step - loss: 0.0078\n",
            "Epoch 6/30\n",
            "47/47 [==============================] - 1s 26ms/step - loss: 0.0057\n",
            "Epoch 7/30\n",
            "47/47 [==============================] - 1s 21ms/step - loss: 0.0046\n",
            "Epoch 8/30\n",
            "47/47 [==============================] - 1s 22ms/step - loss: 0.0039\n",
            "Epoch 9/30\n",
            "47/47 [==============================] - 1s 18ms/step - loss: 0.0033\n",
            "Epoch 10/30\n",
            "47/47 [==============================] - 1s 24ms/step - loss: 0.0029\n",
            "Epoch 11/30\n",
            "47/47 [==============================] - 1s 27ms/step - loss: 0.0026\n",
            "Epoch 12/30\n",
            "47/47 [==============================] - 1s 27ms/step - loss: 0.0023\n",
            "Epoch 13/30\n",
            "47/47 [==============================] - 1s 23ms/step - loss: 0.0021\n",
            "Epoch 14/30\n",
            "47/47 [==============================] - 1s 22ms/step - loss: 0.0019\n",
            "Epoch 15/30\n",
            "47/47 [==============================] - 1s 22ms/step - loss: 0.0018\n",
            "Epoch 16/30\n",
            "47/47 [==============================] - 1s 22ms/step - loss: 0.0016\n",
            "Epoch 17/30\n",
            "47/47 [==============================] - 1s 21ms/step - loss: 0.0015\n",
            "Epoch 18/30\n",
            "47/47 [==============================] - 1s 18ms/step - loss: 0.0014\n",
            "Epoch 19/30\n",
            "47/47 [==============================] - 1s 23ms/step - loss: 0.0013\n",
            "Epoch 20/30\n",
            "47/47 [==============================] - 1s 16ms/step - loss: 0.0013\n",
            "Epoch 21/30\n",
            "47/47 [==============================] - 0s 10ms/step - loss: 0.0012\n",
            "Epoch 22/30\n",
            "47/47 [==============================] - 0s 10ms/step - loss: 0.0011\n",
            "Epoch 23/30\n",
            "47/47 [==============================] - 0s 10ms/step - loss: 0.0010\n",
            "Epoch 24/30\n",
            "47/47 [==============================] - 0s 10ms/step - loss: 9.7569e-04\n",
            "Epoch 25/30\n",
            "47/47 [==============================] - 1s 14ms/step - loss: 9.3046e-04\n",
            "Epoch 26/30\n",
            "47/47 [==============================] - 1s 16ms/step - loss: 8.9852e-04\n",
            "Epoch 27/30\n",
            "47/47 [==============================] - 1s 16ms/step - loss: 8.4999e-04\n",
            "Epoch 28/30\n",
            "47/47 [==============================] - 1s 16ms/step - loss: 8.1103e-04\n",
            "Epoch 29/30\n",
            "47/47 [==============================] - 1s 11ms/step - loss: 7.8037e-04\n",
            "Epoch 30/30\n",
            "47/47 [==============================] - 1s 11ms/step - loss: 7.4697e-04\n"
          ]
        },
        {
          "output_type": "execute_result",
          "data": {
            "text/plain": [
              "<keras.src.callbacks.History at 0x7f3cc4a7f3a0>"
            ]
          },
          "metadata": {},
          "execution_count": 7
        }
      ]
    },
    {
      "cell_type": "code",
      "source": [
        "YPredict = np.argmax(model.predict(XTest),axis=1)\n",
        "# argmax reverses the one-hot encoding scheme\n",
        "\n",
        "accuracy = np.sum(YPredict == y_test_label)/len(y_test_label)\n",
        "print('Accuracy = {}'.format(accuracy))"
      ],
      "metadata": {
        "colab": {
          "base_uri": "https://localhost:8080/"
        },
        "id": "uvpoY_59dvNx",
        "outputId": "189033aa-9cc1-4a09-832b-a3b325986fb9"
      },
      "execution_count": 8,
      "outputs": [
        {
          "output_type": "stream",
          "name": "stdout",
          "text": [
            "47/47 [==============================] - 0s 4ms/step\n",
            "Accuracy = 0.8966666666666666\n"
          ]
        }
      ]
    }
  ]
}